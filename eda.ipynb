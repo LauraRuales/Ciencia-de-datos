{
 "cells": [
  {
   "cell_type": "markdown",
   "metadata": {
    "colab_type": "text",
    "id": "view-in-github"
   },
   "source": [
    "<a href=\"https://colab.research.google.com/github/datascience-uniandes/data-analysis-tutorial/blob/master/fifa/eda.ipynb\" target=\"_parent\"><img src=\"https://colab.research.google.com/assets/colab-badge.svg\" alt=\"Open In Colab\"/></a>"
   ]
  },
  {
   "cell_type": "markdown",
   "metadata": {
    "id": "5p6U1zpoerxv",
    "tags": []
   },
   "source": [
    "# Exploratory Data Analysis (EDA)\n",
    "\n",
    "MINE-4101: Applied Data Science  \n",
    "Univerisdad de los Andes  \n",
    "  \n",
    "**Dataset:** Hotel Bookings\n",
    "  \n",
    "Last update: September, 2025"
   ]
  },
  {
   "cell_type": "code",
   "execution_count": null,
   "metadata": {},
   "outputs": [],
   "source": [
    "%pip install numpy \n",
    "%pip install pandas \n",
    "%pip install matplotlib \n",
    "%pip install seaborn \n",
    "%pip install --upgrade ydata-profiling"
   ]
  },
  {
   "cell_type": "code",
   "execution_count": 1,
   "metadata": {
    "id": "X4T1Rk_yerxx"
   },
   "outputs": [
    {
     "name": "stderr",
     "output_type": "stream",
     "text": [
      "/Users/lruales/Library/Python/3.9/lib/python/site-packages/tqdm/auto.py:21: TqdmWarning: IProgress not found. Please update jupyter and ipywidgets. See https://ipywidgets.readthedocs.io/en/stable/user_install.html\n",
      "  from .autonotebook import tqdm as notebook_tqdm\n",
      "/Users/lruales/Library/Python/3.9/lib/python/site-packages/urllib3/__init__.py:35: NotOpenSSLWarning: urllib3 v2 only supports OpenSSL 1.1.1+, currently the 'ssl' module is compiled with 'LibreSSL 2.8.3'. See: https://github.com/urllib3/urllib3/issues/3020\n",
      "  warnings.warn(\n"
     ]
    },
    {
     "data": {
      "text/html": [
       "\n",
       "            <div>\n",
       "                <ins><a href=\"https://ydata.ai/register\">Upgrade to ydata-sdk</a></ins>\n",
       "                <p>\n",
       "                    Improve your data and profiling with ydata-sdk, featuring data quality scoring, redundancy detection, outlier identification, text validation, and synthetic data generation.\n",
       "                </p>\n",
       "            </div>\n",
       "            "
      ],
      "text/plain": [
       "<IPython.core.display.HTML object>"
      ]
     },
     "metadata": {},
     "output_type": "display_data"
    }
   ],
   "source": [
    "# Importing libraries\n",
    "\n",
    "import numpy as np\n",
    "import pandas as pd\n",
    "import matplotlib.pyplot as plt\n",
    "import seaborn as sns\n",
    "\n",
    "from datetime import datetime\n",
    "from ydata_profiling import ProfileReport"
   ]
  },
  {
   "cell_type": "code",
   "execution_count": 2,
   "metadata": {
    "id": "fRyhiCBperxx"
   },
   "outputs": [],
   "source": [
    "# Panadas configuration to extend the number of rows and columns to visualize by default\n",
    "pd.set_option('display.max_rows', 100)\n",
    "pd.set_option('display.max_columns', 100)\n",
    "\n",
    "# Suppress scientific notation\n",
    "pd.options.display.float_format = '{:.2f}'.format"
   ]
  },
  {
   "cell_type": "markdown",
   "metadata": {},
   "source": [
    "### Load the data"
   ]
  },
  {
   "cell_type": "code",
   "execution_count": 3,
   "metadata": {
    "id": "5VBZ3Vceerxx"
   },
   "outputs": [
    {
     "name": "stderr",
     "output_type": "stream",
     "text": [
      "/var/folders/tl/_hb9hygj6kxbfmb0l04swmq40000gq/T/ipykernel_9791/1840387268.py:2: DtypeWarning: Columns (24) have mixed types. Specify dtype option on import or set low_memory=False.\n",
      "  reservas = pd.read_csv('./data/hotel_bookings_modified.csv')\n"
     ]
    }
   ],
   "source": [
    "# Loading the CSV file as a dataframe\n",
    "reservas = pd.read_csv('./data/hotel_bookings_modified.csv')"
   ]
  },
  {
   "cell_type": "code",
   "execution_count": 4,
   "metadata": {
    "id": "Oa5ltomOerxy"
   },
   "outputs": [
    {
     "name": "stdout",
     "output_type": "stream",
     "text": [
      "(58895, 33)\n",
      "hotel                              object\n",
      "is_canceled                         int64\n",
      "lead_time                           int64\n",
      "arrival_date_year                 float64\n",
      "arrival_date_month                 object\n",
      "arrival_date_week_number            int64\n",
      "arrival_date_day_of_month           int64\n",
      "stays_in_weekend_nights             int64\n",
      "stays_in_week_nights                int64\n",
      "adults                              int64\n",
      "children                          float64\n",
      "babies                              int64\n",
      "meal                               object\n",
      "country                            object\n",
      "market_segment                     object\n",
      "distribution_channel               object\n",
      "is_repeated_guest                   int64\n",
      "previous_cancellations              int64\n",
      "previous_bookings_not_canceled      int64\n",
      "reserved_room_type                 object\n",
      "assigned_room_type                 object\n",
      "booking_changes                     int64\n",
      "deposit_type                       object\n",
      "agent                             float64\n",
      "company                            object\n",
      "days_in_waiting_list              float64\n",
      "customer_type                      object\n",
      "adr                               float64\n",
      "required_car_parking_spaces       float64\n",
      "total_of_special_requests         float64\n",
      "reservation_status                 object\n",
      "reservation_status_date            object\n",
      "kids                              float64\n",
      "dtype: object\n"
     ]
    },
    {
     "data": {
      "text/html": [
       "<div>\n",
       "<style scoped>\n",
       "    .dataframe tbody tr th:only-of-type {\n",
       "        vertical-align: middle;\n",
       "    }\n",
       "\n",
       "    .dataframe tbody tr th {\n",
       "        vertical-align: top;\n",
       "    }\n",
       "\n",
       "    .dataframe thead th {\n",
       "        text-align: right;\n",
       "    }\n",
       "</style>\n",
       "<table border=\"1\" class=\"dataframe\">\n",
       "  <thead>\n",
       "    <tr style=\"text-align: right;\">\n",
       "      <th></th>\n",
       "      <th>hotel</th>\n",
       "      <th>is_canceled</th>\n",
       "      <th>lead_time</th>\n",
       "      <th>arrival_date_year</th>\n",
       "      <th>arrival_date_month</th>\n",
       "      <th>arrival_date_week_number</th>\n",
       "      <th>arrival_date_day_of_month</th>\n",
       "      <th>stays_in_weekend_nights</th>\n",
       "      <th>stays_in_week_nights</th>\n",
       "      <th>adults</th>\n",
       "      <th>children</th>\n",
       "      <th>babies</th>\n",
       "      <th>meal</th>\n",
       "      <th>country</th>\n",
       "      <th>market_segment</th>\n",
       "      <th>distribution_channel</th>\n",
       "      <th>is_repeated_guest</th>\n",
       "      <th>previous_cancellations</th>\n",
       "      <th>previous_bookings_not_canceled</th>\n",
       "      <th>reserved_room_type</th>\n",
       "      <th>assigned_room_type</th>\n",
       "      <th>booking_changes</th>\n",
       "      <th>deposit_type</th>\n",
       "      <th>agent</th>\n",
       "      <th>company</th>\n",
       "      <th>days_in_waiting_list</th>\n",
       "      <th>customer_type</th>\n",
       "      <th>adr</th>\n",
       "      <th>required_car_parking_spaces</th>\n",
       "      <th>total_of_special_requests</th>\n",
       "      <th>reservation_status</th>\n",
       "      <th>reservation_status_date</th>\n",
       "      <th>kids</th>\n",
       "    </tr>\n",
       "  </thead>\n",
       "  <tbody>\n",
       "    <tr>\n",
       "      <th>0</th>\n",
       "      <td>Resort Hotel</td>\n",
       "      <td>0</td>\n",
       "      <td>342</td>\n",
       "      <td>2015.00</td>\n",
       "      <td>July</td>\n",
       "      <td>27</td>\n",
       "      <td>1</td>\n",
       "      <td>0</td>\n",
       "      <td>0</td>\n",
       "      <td>2</td>\n",
       "      <td>0.00</td>\n",
       "      <td>0</td>\n",
       "      <td>BB</td>\n",
       "      <td>PRT</td>\n",
       "      <td>Direct</td>\n",
       "      <td>Direct</td>\n",
       "      <td>0</td>\n",
       "      <td>0</td>\n",
       "      <td>0</td>\n",
       "      <td>C</td>\n",
       "      <td>C</td>\n",
       "      <td>3</td>\n",
       "      <td>No Deposit</td>\n",
       "      <td>NaN</td>\n",
       "      <td>NaN</td>\n",
       "      <td>0.00</td>\n",
       "      <td>Transient</td>\n",
       "      <td>0.00</td>\n",
       "      <td>0.00</td>\n",
       "      <td>0.00</td>\n",
       "      <td>Check-Out</td>\n",
       "      <td>2015-07-01</td>\n",
       "      <td>NaN</td>\n",
       "    </tr>\n",
       "    <tr>\n",
       "      <th>1</th>\n",
       "      <td>Resort Hotel</td>\n",
       "      <td>0</td>\n",
       "      <td>737</td>\n",
       "      <td>2015.00</td>\n",
       "      <td>July</td>\n",
       "      <td>27</td>\n",
       "      <td>1</td>\n",
       "      <td>0</td>\n",
       "      <td>0</td>\n",
       "      <td>2</td>\n",
       "      <td>0.00</td>\n",
       "      <td>0</td>\n",
       "      <td>BB</td>\n",
       "      <td>PRT</td>\n",
       "      <td>Direct</td>\n",
       "      <td>Direct</td>\n",
       "      <td>0</td>\n",
       "      <td>0</td>\n",
       "      <td>0</td>\n",
       "      <td>C</td>\n",
       "      <td>C</td>\n",
       "      <td>4</td>\n",
       "      <td>No Deposit</td>\n",
       "      <td>NaN</td>\n",
       "      <td>NaN</td>\n",
       "      <td>0.00</td>\n",
       "      <td>Transient</td>\n",
       "      <td>0.00</td>\n",
       "      <td>0.00</td>\n",
       "      <td>0.00</td>\n",
       "      <td>Check-Out</td>\n",
       "      <td>2015-07-01</td>\n",
       "      <td>NaN</td>\n",
       "    </tr>\n",
       "    <tr>\n",
       "      <th>2</th>\n",
       "      <td>Resort Hotel</td>\n",
       "      <td>0</td>\n",
       "      <td>7</td>\n",
       "      <td>2015.00</td>\n",
       "      <td>July</td>\n",
       "      <td>27</td>\n",
       "      <td>1</td>\n",
       "      <td>0</td>\n",
       "      <td>1</td>\n",
       "      <td>1</td>\n",
       "      <td>0.00</td>\n",
       "      <td>0</td>\n",
       "      <td>BB</td>\n",
       "      <td>GBR</td>\n",
       "      <td>Direct</td>\n",
       "      <td>Direct</td>\n",
       "      <td>0</td>\n",
       "      <td>0</td>\n",
       "      <td>0</td>\n",
       "      <td>A</td>\n",
       "      <td>C</td>\n",
       "      <td>0</td>\n",
       "      <td>No Deposit</td>\n",
       "      <td>NaN</td>\n",
       "      <td>NaN</td>\n",
       "      <td>0.00</td>\n",
       "      <td>Transient</td>\n",
       "      <td>75.00</td>\n",
       "      <td>0.00</td>\n",
       "      <td>0.00</td>\n",
       "      <td>Check-Out</td>\n",
       "      <td>2015-07-02</td>\n",
       "      <td>NaN</td>\n",
       "    </tr>\n",
       "    <tr>\n",
       "      <th>3</th>\n",
       "      <td>Resort Hotel</td>\n",
       "      <td>0</td>\n",
       "      <td>13</td>\n",
       "      <td>2015.00</td>\n",
       "      <td>July</td>\n",
       "      <td>27</td>\n",
       "      <td>1</td>\n",
       "      <td>0</td>\n",
       "      <td>1</td>\n",
       "      <td>1</td>\n",
       "      <td>0.00</td>\n",
       "      <td>0</td>\n",
       "      <td>BB</td>\n",
       "      <td>GBR</td>\n",
       "      <td>Corporate</td>\n",
       "      <td>Corporate</td>\n",
       "      <td>0</td>\n",
       "      <td>0</td>\n",
       "      <td>0</td>\n",
       "      <td>A</td>\n",
       "      <td>A</td>\n",
       "      <td>0</td>\n",
       "      <td>No Deposit</td>\n",
       "      <td>304.00</td>\n",
       "      <td>NaN</td>\n",
       "      <td>0.00</td>\n",
       "      <td>Transient</td>\n",
       "      <td>75.00</td>\n",
       "      <td>0.00</td>\n",
       "      <td>0.00</td>\n",
       "      <td>Check-Out</td>\n",
       "      <td>2015-07-02</td>\n",
       "      <td>NaN</td>\n",
       "    </tr>\n",
       "    <tr>\n",
       "      <th>4</th>\n",
       "      <td>Resort Hotel</td>\n",
       "      <td>0</td>\n",
       "      <td>14</td>\n",
       "      <td>2015.00</td>\n",
       "      <td>July</td>\n",
       "      <td>27</td>\n",
       "      <td>1</td>\n",
       "      <td>0</td>\n",
       "      <td>2</td>\n",
       "      <td>2</td>\n",
       "      <td>0.00</td>\n",
       "      <td>0</td>\n",
       "      <td>BB</td>\n",
       "      <td>GBR</td>\n",
       "      <td>Online TA</td>\n",
       "      <td>TA/TO</td>\n",
       "      <td>0</td>\n",
       "      <td>0</td>\n",
       "      <td>0</td>\n",
       "      <td>A</td>\n",
       "      <td>A</td>\n",
       "      <td>0</td>\n",
       "      <td>No Deposit</td>\n",
       "      <td>240.00</td>\n",
       "      <td>NaN</td>\n",
       "      <td>0.00</td>\n",
       "      <td>Transient</td>\n",
       "      <td>98.00</td>\n",
       "      <td>0.00</td>\n",
       "      <td>1.00</td>\n",
       "      <td>Check-Out</td>\n",
       "      <td>2015-07-03</td>\n",
       "      <td>NaN</td>\n",
       "    </tr>\n",
       "  </tbody>\n",
       "</table>\n",
       "</div>"
      ],
      "text/plain": [
       "          hotel  is_canceled  lead_time  arrival_date_year arrival_date_month  \\\n",
       "0  Resort Hotel            0        342            2015.00               July   \n",
       "1  Resort Hotel            0        737            2015.00               July   \n",
       "2  Resort Hotel            0          7            2015.00               July   \n",
       "3  Resort Hotel            0         13            2015.00               July   \n",
       "4  Resort Hotel            0         14            2015.00               July   \n",
       "\n",
       "   arrival_date_week_number  arrival_date_day_of_month  \\\n",
       "0                        27                          1   \n",
       "1                        27                          1   \n",
       "2                        27                          1   \n",
       "3                        27                          1   \n",
       "4                        27                          1   \n",
       "\n",
       "   stays_in_weekend_nights  stays_in_week_nights  adults  children  babies  \\\n",
       "0                        0                     0       2      0.00       0   \n",
       "1                        0                     0       2      0.00       0   \n",
       "2                        0                     1       1      0.00       0   \n",
       "3                        0                     1       1      0.00       0   \n",
       "4                        0                     2       2      0.00       0   \n",
       "\n",
       "  meal country market_segment distribution_channel  is_repeated_guest  \\\n",
       "0   BB     PRT         Direct               Direct                  0   \n",
       "1   BB     PRT         Direct               Direct                  0   \n",
       "2   BB     GBR         Direct               Direct                  0   \n",
       "3   BB     GBR      Corporate            Corporate                  0   \n",
       "4   BB     GBR      Online TA                TA/TO                  0   \n",
       "\n",
       "   previous_cancellations  previous_bookings_not_canceled reserved_room_type  \\\n",
       "0                       0                               0                  C   \n",
       "1                       0                               0                  C   \n",
       "2                       0                               0                  A   \n",
       "3                       0                               0                  A   \n",
       "4                       0                               0                  A   \n",
       "\n",
       "  assigned_room_type  booking_changes deposit_type  agent company  \\\n",
       "0                  C                3   No Deposit    NaN     NaN   \n",
       "1                  C                4   No Deposit    NaN     NaN   \n",
       "2                  C                0   No Deposit    NaN     NaN   \n",
       "3                  A                0   No Deposit 304.00     NaN   \n",
       "4                  A                0   No Deposit 240.00     NaN   \n",
       "\n",
       "   days_in_waiting_list customer_type   adr  required_car_parking_spaces  \\\n",
       "0                  0.00     Transient  0.00                         0.00   \n",
       "1                  0.00     Transient  0.00                         0.00   \n",
       "2                  0.00     Transient 75.00                         0.00   \n",
       "3                  0.00     Transient 75.00                         0.00   \n",
       "4                  0.00     Transient 98.00                         0.00   \n",
       "\n",
       "   total_of_special_requests reservation_status reservation_status_date  kids  \n",
       "0                       0.00          Check-Out              2015-07-01   NaN  \n",
       "1                       0.00          Check-Out              2015-07-01   NaN  \n",
       "2                       0.00          Check-Out              2015-07-02   NaN  \n",
       "3                       0.00          Check-Out              2015-07-02   NaN  \n",
       "4                       1.00          Check-Out              2015-07-03   NaN  "
      ]
     },
     "execution_count": 4,
     "metadata": {},
     "output_type": "execute_result"
    }
   ],
   "source": [
    "# Showing the dataframe dimensions\n",
    "print(reservas.shape)\n",
    "\n",
    "# Showing the column data types\n",
    "print(reservas.dtypes)\n",
    "\n",
    "# Showing the top 5 rows\n",
    "reservas.head(5)"
   ]
  },
  {
   "cell_type": "markdown",
   "metadata": {
    "id": "MCcVrHn5erx0",
    "tags": []
   },
   "source": [
    "### Explore the *Categorical* columns"
   ]
  },
  {
   "cell_type": "code",
   "execution_count": 6,
   "metadata": {},
   "outputs": [
    {
     "name": "stdout",
     "output_type": "stream",
     "text": [
      "58895\n",
      "Nombre atributo:  hotel\n",
      "      Categoria  Valor  Proporcion\n",
      "0  Resort Hotel  40063        0.68\n",
      "1    City Hotel  18832        0.32\n",
      "-----------------------------------\n",
      "Nombre atributo:  is_canceled\n",
      "   Categoria  Valor  Proporcion\n",
      "0          0  34666        0.59\n",
      "1          1  24229        0.41\n",
      "-----------------------------------\n",
      "Nombre atributo:  meal\n",
      "   Categoria  Valor  Proporcion\n",
      "0         BB  45060        0.77\n",
      "1         HB  10096        0.17\n",
      "2         SC   1780        0.03\n",
      "3  Undefined   1169        0.02\n",
      "4         FB    790        0.01\n",
      "-----------------------------------\n",
      "Nombre atributo:  country\n",
      "    Categoria  Valor  Proporcion\n",
      "0         PRT  27559        0.47\n",
      "1         GBR   7595        0.13\n",
      "2         ESP   5275        0.09\n",
      "3         FRA   3037        0.05\n",
      "4         IRL   2371        0.04\n",
      "..        ...    ...         ...\n",
      "136       BHR      1        0.00\n",
      "137       BDI      1        0.00\n",
      "138       SYR      1        0.00\n",
      "139       UGA      1        0.00\n",
      "140       GAB      1        0.00\n",
      "\n",
      "[141 rows x 3 columns]\n",
      "-----------------------------------\n",
      "Nombre atributo:  market_segment\n",
      "       Categoria  Valor  Proporcion\n",
      "0      Online TA  25742        0.44\n",
      "1  Offline TA/TO  12455        0.21\n",
      "2         Groups  10399        0.18\n",
      "3         Direct   7400        0.13\n",
      "4      Corporate   2621        0.04\n",
      "5  Complementary    254        0.00\n",
      "6       Aviation     22        0.00\n",
      "7      Undefined      2        0.00\n",
      "-----------------------------------\n",
      "Nombre atributo:  distribution_channel\n",
      "   Categoria  Valor  Proporcion\n",
      "0      TA/TO  46358        0.79\n",
      "1     Direct   8841        0.15\n",
      "2  Corporate   3680        0.06\n",
      "3        GDS     11        0.00\n",
      "4  Undefined      5        0.00\n",
      "-----------------------------------\n",
      "Nombre atributo:  is_repeated_guest\n",
      "   Categoria  Valor  Proporcion\n",
      "0          0  57117        0.97\n",
      "1          1   1778        0.03\n",
      "-----------------------------------\n",
      "Nombre atributo:  previous_cancellations\n",
      "    Categoria  Valor  Proporcion\n",
      "0           0  57800        0.98\n",
      "1           1    896        0.02\n",
      "2          24     48        0.00\n",
      "3           2     44        0.00\n",
      "4          26     26        0.00\n",
      "5          25     25        0.00\n",
      "6          19     19        0.00\n",
      "7           3     14        0.00\n",
      "8          14     14        0.00\n",
      "9           4      6        0.00\n",
      "10          5      3        0.00\n",
      "-----------------------------------\n",
      "Nombre atributo:  previous_bookings_not_canceled\n",
      "    Categoria  Valor  Proporcion\n",
      "0           0  56863        0.97\n",
      "1           1    973        0.02\n",
      "2           2    388        0.01\n",
      "3           3    204        0.00\n",
      "4           4    127        0.00\n",
      "5           5     91        0.00\n",
      "6           6     56        0.00\n",
      "7           7     37        0.00\n",
      "8           8     33        0.00\n",
      "9           9     24        0.00\n",
      "10         10     20        0.00\n",
      "11         11     14        0.00\n",
      "12         12     12        0.00\n",
      "13         13     10        0.00\n",
      "14         14      8        0.00\n",
      "15         18      4        0.00\n",
      "16         15      4        0.00\n",
      "17         16      4        0.00\n",
      "18         17      3        0.00\n",
      "19         25      3        0.00\n",
      "20         20      2        0.00\n",
      "21         21      2        0.00\n",
      "22         22      2        0.00\n",
      "23         23      2        0.00\n",
      "24         24      2        0.00\n",
      "25         27      2        0.00\n",
      "26         28      1        0.00\n",
      "27         29      1        0.00\n",
      "28         30      1        0.00\n",
      "29         19      1        0.00\n",
      "30         26      1        0.00\n",
      "-----------------------------------\n",
      "Nombre atributo:  reserved_room_type\n",
      "  Categoria  Valor  Proporcion\n",
      "0         A  39143        0.66\n",
      "1         D   9516        0.16\n",
      "2         E   5143        0.09\n",
      "3         G   1649        0.03\n",
      "4         F   1515        0.03\n",
      "5         C    920        0.02\n",
      "6         H    601        0.01\n",
      "7         B    400        0.01\n",
      "8         L      6        0.00\n",
      "9         P      2        0.00\n",
      "-----------------------------------\n",
      "Nombre atributo:  reserved_room_type\n",
      "  Categoria  Valor  Proporcion\n",
      "0         A  39143        0.66\n",
      "1         D   9516        0.16\n",
      "2         E   5143        0.09\n",
      "3         G   1649        0.03\n",
      "4         F   1515        0.03\n",
      "5         C    920        0.02\n",
      "6         H    601        0.01\n",
      "7         B    400        0.01\n",
      "8         L      6        0.00\n",
      "9         P      2        0.00\n",
      "-----------------------------------\n",
      "Nombre atributo:  deposit_type\n",
      "    Categoria  Valor  Proporcion\n",
      "0  No Deposit  52333        0.89\n",
      "1  Non Refund   5457        0.09\n",
      "2   No Refund    962        0.02\n",
      "3  Refundable    143        0.00\n",
      "-----------------------------------\n",
      "Nombre atributo:  agent\n",
      "     Categoria  Valor  Proporcion\n",
      "0       240.00  13907        0.24\n",
      "1         9.00   6997        0.12\n",
      "2         1.00   3184        0.05\n",
      "3       250.00   2870        0.05\n",
      "4       241.00   1721        0.03\n",
      "..         ...    ...         ...\n",
      "244     165.00      1        0.00\n",
      "245     337.00      1        0.00\n",
      "246     476.00      1        0.00\n",
      "247     497.00      1        0.00\n",
      "248      77.00      1        0.00\n",
      "\n",
      "[249 rows x 3 columns]\n",
      "-----------------------------------\n",
      "Nombre atributo:  company\n",
      "    Categoria  Valor  Proporcion\n",
      "0      223.00    784        0.01\n",
      "1      281.00    138        0.00\n",
      "2      154.00    133        0.00\n",
      "3      405.00    100        0.00\n",
      "4       94.00     87        0.00\n",
      "..        ...    ...         ...\n",
      "272      6.00      1        0.00\n",
      "273    398.00      1        0.00\n",
      "274    396.00      1        0.00\n",
      "275    402.00      1        0.00\n",
      "276        NU      1        0.00\n",
      "\n",
      "[277 rows x 3 columns]\n",
      "-----------------------------------\n",
      "Nombre atributo:  customer_type\n",
      "         Categoria  Valor  Proporcion\n",
      "0        Transient  42430        0.72\n",
      "1  Transient-Party  13078        0.22\n",
      "2         Contract   2486        0.04\n",
      "3            Group    312        0.01\n",
      "-----------------------------------\n",
      "Nombre atributo:  reservation_status\n",
      "   Categoria  Valor  Proporcion\n",
      "0  Check-Out  34291        0.58\n",
      "1   Canceled  23218        0.39\n",
      "2    No-Show    797        0.01\n",
      "-----------------------------------\n"
     ]
    }
   ],
   "source": [
    "categorial_columns = ['hotel','is_canceled','meal','country','market_segment','distribution_channel','is_repeated_guest','previous_cancellations','previous_bookings_not_canceled','reserved_room_type','reserved_room_type','deposit_type','agent','company','customer_type','reservation_status']\n",
    "total = reservas.shape[0]\n",
    "print(total)\n",
    "for column in categorial_columns\n",
    "    frecuencias = reservas[column].value_counts()\n",
    "    schema ={'Categoria' frecuencias.index,\n",
    "         'Valor' frecuencias.values}\n",
    "    \n",
    "    df = pd.DataFrame(schema)\n",
    "    \n",
    "    df['Proporcion'] = df['Valor']/total\n",
    "    print('Nombre atributo: ', column)\n",
    "    print(df)\n",
    "    print(\"-----------------------------------\")"
   ]
  },
  {
   "cell_type": "markdown",
   "metadata": {},
   "source": [
    "### Explore the *Cuantitative* columns"
   ]
  },
  {
   "cell_type": "code",
   "execution_count": 5,
   "metadata": {},
   "outputs": [
    {
     "data": {
      "text/html": [
       "<div>\n",
       "<style scoped>\n",
       "    .dataframe tbody tr th:only-of-type {\n",
       "        vertical-align: middle;\n",
       "    }\n",
       "\n",
       "    .dataframe tbody tr th {\n",
       "        vertical-align: top;\n",
       "    }\n",
       "\n",
       "    .dataframe thead th {\n",
       "        text-align: right;\n",
       "    }\n",
       "</style>\n",
       "<table border=\"1\" class=\"dataframe\">\n",
       "  <thead>\n",
       "    <tr style=\"text-align: right;\">\n",
       "      <th></th>\n",
       "      <th>lead_time</th>\n",
       "      <th>arrival_date_year</th>\n",
       "      <th>arrival_date_month</th>\n",
       "      <th>arrival_date_week_number</th>\n",
       "      <th>arrival_date_day_of_month</th>\n",
       "      <th>stays_in_weekend_nights</th>\n",
       "      <th>stays_in_week_nights</th>\n",
       "      <th>adults</th>\n",
       "      <th>children</th>\n",
       "      <th>babies</th>\n",
       "      <th>booking_changes</th>\n",
       "      <th>days_in_waiting_list</th>\n",
       "      <th>required_car_parking_spaces</th>\n",
       "      <th>total_of_special_requests</th>\n",
       "    </tr>\n",
       "  </thead>\n",
       "  <tbody>\n",
       "    <tr>\n",
       "      <th>count</th>\n",
       "      <td>58895.00</td>\n",
       "      <td>58307.00</td>\n",
       "      <td>58895</td>\n",
       "      <td>58895.00</td>\n",
       "      <td>58895.00</td>\n",
       "      <td>58895.00</td>\n",
       "      <td>58895.00</td>\n",
       "      <td>58895.00</td>\n",
       "      <td>58891.00</td>\n",
       "      <td>58895.00</td>\n",
       "      <td>58895.00</td>\n",
       "      <td>58894.00</td>\n",
       "      <td>58306.00</td>\n",
       "      <td>58894.00</td>\n",
       "    </tr>\n",
       "    <tr>\n",
       "      <th>unique</th>\n",
       "      <td>NaN</td>\n",
       "      <td>NaN</td>\n",
       "      <td>12</td>\n",
       "      <td>NaN</td>\n",
       "      <td>NaN</td>\n",
       "      <td>NaN</td>\n",
       "      <td>NaN</td>\n",
       "      <td>NaN</td>\n",
       "      <td>NaN</td>\n",
       "      <td>NaN</td>\n",
       "      <td>NaN</td>\n",
       "      <td>NaN</td>\n",
       "      <td>NaN</td>\n",
       "      <td>NaN</td>\n",
       "    </tr>\n",
       "    <tr>\n",
       "      <th>top</th>\n",
       "      <td>NaN</td>\n",
       "      <td>NaN</td>\n",
       "      <td>August</td>\n",
       "      <td>NaN</td>\n",
       "      <td>NaN</td>\n",
       "      <td>NaN</td>\n",
       "      <td>NaN</td>\n",
       "      <td>NaN</td>\n",
       "      <td>NaN</td>\n",
       "      <td>NaN</td>\n",
       "      <td>NaN</td>\n",
       "      <td>NaN</td>\n",
       "      <td>NaN</td>\n",
       "      <td>NaN</td>\n",
       "    </tr>\n",
       "    <tr>\n",
       "      <th>freq</th>\n",
       "      <td>NaN</td>\n",
       "      <td>NaN</td>\n",
       "      <td>7715</td>\n",
       "      <td>NaN</td>\n",
       "      <td>NaN</td>\n",
       "      <td>NaN</td>\n",
       "      <td>NaN</td>\n",
       "      <td>NaN</td>\n",
       "      <td>NaN</td>\n",
       "      <td>NaN</td>\n",
       "      <td>NaN</td>\n",
       "      <td>NaN</td>\n",
       "      <td>NaN</td>\n",
       "      <td>NaN</td>\n",
       "    </tr>\n",
       "    <tr>\n",
       "      <th>mean</th>\n",
       "      <td>100.05</td>\n",
       "      <td>2205.52</td>\n",
       "      <td>NaN</td>\n",
       "      <td>27.84</td>\n",
       "      <td>15.77</td>\n",
       "      <td>1.06</td>\n",
       "      <td>2.85</td>\n",
       "      <td>1.97</td>\n",
       "      <td>0.11</td>\n",
       "      <td>0.14</td>\n",
       "      <td>0.24</td>\n",
       "      <td>3.53</td>\n",
       "      <td>0.10</td>\n",
       "      <td>0.51</td>\n",
       "    </tr>\n",
       "    <tr>\n",
       "      <th>std</th>\n",
       "      <td>101.16</td>\n",
       "      <td>1837.39</td>\n",
       "      <td>NaN</td>\n",
       "      <td>13.35</td>\n",
       "      <td>8.78</td>\n",
       "      <td>1.09</td>\n",
       "      <td>2.24</td>\n",
       "      <td>2.94</td>\n",
       "      <td>0.42</td>\n",
       "      <td>3.12</td>\n",
       "      <td>0.70</td>\n",
       "      <td>21.84</td>\n",
       "      <td>0.30</td>\n",
       "      <td>0.77</td>\n",
       "    </tr>\n",
       "    <tr>\n",
       "      <th>min</th>\n",
       "      <td>0.00</td>\n",
       "      <td>2015.00</td>\n",
       "      <td>NaN</td>\n",
       "      <td>1.00</td>\n",
       "      <td>1.00</td>\n",
       "      <td>0.00</td>\n",
       "      <td>0.00</td>\n",
       "      <td>-1.00</td>\n",
       "      <td>0.00</td>\n",
       "      <td>-1.00</td>\n",
       "      <td>0.00</td>\n",
       "      <td>0.00</td>\n",
       "      <td>0.00</td>\n",
       "      <td>0.00</td>\n",
       "    </tr>\n",
       "    <tr>\n",
       "      <th>25%</th>\n",
       "      <td>17.00</td>\n",
       "      <td>2016.00</td>\n",
       "      <td>NaN</td>\n",
       "      <td>17.00</td>\n",
       "      <td>8.00</td>\n",
       "      <td>0.00</td>\n",
       "      <td>1.00</td>\n",
       "      <td>2.00</td>\n",
       "      <td>0.00</td>\n",
       "      <td>0.00</td>\n",
       "      <td>0.00</td>\n",
       "      <td>0.00</td>\n",
       "      <td>0.00</td>\n",
       "      <td>0.00</td>\n",
       "    </tr>\n",
       "    <tr>\n",
       "      <th>50%</th>\n",
       "      <td>69.00</td>\n",
       "      <td>2016.00</td>\n",
       "      <td>NaN</td>\n",
       "      <td>29.00</td>\n",
       "      <td>16.00</td>\n",
       "      <td>1.00</td>\n",
       "      <td>2.00</td>\n",
       "      <td>2.00</td>\n",
       "      <td>0.00</td>\n",
       "      <td>0.00</td>\n",
       "      <td>0.00</td>\n",
       "      <td>0.00</td>\n",
       "      <td>0.00</td>\n",
       "      <td>0.00</td>\n",
       "    </tr>\n",
       "    <tr>\n",
       "      <th>75%</th>\n",
       "      <td>157.00</td>\n",
       "      <td>2016.00</td>\n",
       "      <td>NaN</td>\n",
       "      <td>38.00</td>\n",
       "      <td>23.00</td>\n",
       "      <td>2.00</td>\n",
       "      <td>4.00</td>\n",
       "      <td>2.00</td>\n",
       "      <td>0.00</td>\n",
       "      <td>0.00</td>\n",
       "      <td>0.00</td>\n",
       "      <td>0.00</td>\n",
       "      <td>0.00</td>\n",
       "      <td>1.00</td>\n",
       "    </tr>\n",
       "    <tr>\n",
       "      <th>max</th>\n",
       "      <td>737.00</td>\n",
       "      <td>20016.00</td>\n",
       "      <td>NaN</td>\n",
       "      <td>53.00</td>\n",
       "      <td>31.00</td>\n",
       "      <td>19.00</td>\n",
       "      <td>50.00</td>\n",
       "      <td>100.00</td>\n",
       "      <td>10.00</td>\n",
       "      <td>100.00</td>\n",
       "      <td>20.00</td>\n",
       "      <td>391.00</td>\n",
       "      <td>8.00</td>\n",
       "      <td>5.00</td>\n",
       "    </tr>\n",
       "  </tbody>\n",
       "</table>\n",
       "</div>"
      ],
      "text/plain": [
       "        lead_time  arrival_date_year arrival_date_month  \\\n",
       "count    58895.00           58307.00              58895   \n",
       "unique        NaN                NaN                 12   \n",
       "top           NaN                NaN             August   \n",
       "freq          NaN                NaN               7715   \n",
       "mean       100.05            2205.52                NaN   \n",
       "std        101.16            1837.39                NaN   \n",
       "min          0.00            2015.00                NaN   \n",
       "25%         17.00            2016.00                NaN   \n",
       "50%         69.00            2016.00                NaN   \n",
       "75%        157.00            2016.00                NaN   \n",
       "max        737.00           20016.00                NaN   \n",
       "\n",
       "        arrival_date_week_number  arrival_date_day_of_month  \\\n",
       "count                   58895.00                   58895.00   \n",
       "unique                       NaN                        NaN   \n",
       "top                          NaN                        NaN   \n",
       "freq                         NaN                        NaN   \n",
       "mean                       27.84                      15.77   \n",
       "std                        13.35                       8.78   \n",
       "min                         1.00                       1.00   \n",
       "25%                        17.00                       8.00   \n",
       "50%                        29.00                      16.00   \n",
       "75%                        38.00                      23.00   \n",
       "max                        53.00                      31.00   \n",
       "\n",
       "        stays_in_weekend_nights  stays_in_week_nights   adults  children  \\\n",
       "count                  58895.00              58895.00 58895.00  58891.00   \n",
       "unique                      NaN                   NaN      NaN       NaN   \n",
       "top                         NaN                   NaN      NaN       NaN   \n",
       "freq                        NaN                   NaN      NaN       NaN   \n",
       "mean                       1.06                  2.85     1.97      0.11   \n",
       "std                        1.09                  2.24     2.94      0.42   \n",
       "min                        0.00                  0.00    -1.00      0.00   \n",
       "25%                        0.00                  1.00     2.00      0.00   \n",
       "50%                        1.00                  2.00     2.00      0.00   \n",
       "75%                        2.00                  4.00     2.00      0.00   \n",
       "max                       19.00                 50.00   100.00     10.00   \n",
       "\n",
       "         babies  booking_changes  days_in_waiting_list  \\\n",
       "count  58895.00         58895.00              58894.00   \n",
       "unique      NaN              NaN                   NaN   \n",
       "top         NaN              NaN                   NaN   \n",
       "freq        NaN              NaN                   NaN   \n",
       "mean       0.14             0.24                  3.53   \n",
       "std        3.12             0.70                 21.84   \n",
       "min       -1.00             0.00                  0.00   \n",
       "25%        0.00             0.00                  0.00   \n",
       "50%        0.00             0.00                  0.00   \n",
       "75%        0.00             0.00                  0.00   \n",
       "max      100.00            20.00                391.00   \n",
       "\n",
       "        required_car_parking_spaces  total_of_special_requests  \n",
       "count                      58306.00                   58894.00  \n",
       "unique                          NaN                        NaN  \n",
       "top                             NaN                        NaN  \n",
       "freq                            NaN                        NaN  \n",
       "mean                           0.10                       0.51  \n",
       "std                            0.30                       0.77  \n",
       "min                            0.00                       0.00  \n",
       "25%                            0.00                       0.00  \n",
       "50%                            0.00                       0.00  \n",
       "75%                            0.00                       1.00  \n",
       "max                            8.00                       5.00  "
      ]
     },
     "execution_count": 5,
     "metadata": {},
     "output_type": "execute_result"
    }
   ],
   "source": [
    "\n",
    "# Getting the main statistics for the Value column\n",
    "reservas[['lead_time','arrival_date_year','arrival_date_month','arrival_date_week_number','arrival_date_day_of_month','stays_in_weekend_nights','stays_in_week_nights','adults','children','babies','booking_changes','days_in_waiting_list','required_car_parking_spaces','total_of_special_requests']].describe(include='all')"
   ]
  },
  {
   "cell_type": "code",
   "execution_count": 7,
   "metadata": {},
   "outputs": [
    {
     "data": {
      "text/plain": [
       "array(['July', 'August', 'September', 'October', 'November', 'December',\n",
       "       'January', 'February', 'March', 'April', 'May', 'June'],\n",
       "      dtype=object)"
      ]
     },
     "execution_count": 7,
     "metadata": {},
     "output_type": "execute_result"
    }
   ],
   "source": [
    "## Modificacion mes llegada\n",
    "reservas['arrival_date_month'].unique()"
   ]
  },
  {
   "cell_type": "code",
   "execution_count": 8,
   "metadata": {},
   "outputs": [
    {
     "data": {
      "text/plain": [
       "array(['7', '8', '9', '10', '11', '12', '1', '2', '3', '4', '5', '6'],\n",
       "      dtype=object)"
      ]
     },
     "execution_count": 8,
     "metadata": {},
     "output_type": "execute_result"
    }
   ],
   "source": [
    "reservas['mes_llegada'] = reservas['arrival_date_month'].map(lambda x : datetime.strptime(x,'%B') if x!= None else 0)\n",
    "reservas['mes_llegada'] = reservas['mes_llegada'].map(lambda x : datetime.strftime(x,'%-m') if x!= None else 0)\n",
    "reservas['mes_llegada'].unique()"
   ]
  },
  {
   "cell_type": "code",
   "execution_count": 9,
   "metadata": {},
   "outputs": [
    {
     "data": {
      "text/plain": [
       "array([ 2015.,    nan, 20016.,  2016.,  2017.])"
      ]
     },
     "execution_count": 9,
     "metadata": {},
     "output_type": "execute_result"
    }
   ],
   "source": [
    "## Limpieza año llegada\n",
    "reservas['arrival_date_year'].unique()"
   ]
  },
  {
   "cell_type": "code",
   "execution_count": 10,
   "metadata": {},
   "outputs": [
    {
     "data": {
      "text/plain": [
       "array([2015.,   nan, 2016., 2017.])"
      ]
     },
     "execution_count": 10,
     "metadata": {},
     "output_type": "execute_result"
    }
   ],
   "source": [
    "reservas['arrival_date_year'] = reservas['arrival_date_year'].map(lambda x: 2016 if x == 20016 else x)\n",
    "reservas['arrival_date_year'].unique()"
   ]
  },
  {
   "cell_type": "code",
   "execution_count": 11,
   "metadata": {},
   "outputs": [
    {
     "data": {
      "text/plain": [
       "adults\n",
       " 2      45712\n",
       " 1      10610\n",
       " 3       2225\n",
       " 0        104\n",
       "-1         99\n",
       " 4         34\n",
       " 66         6\n",
       " 65         5\n",
       " 26         5\n",
       " 69         4\n",
       " 91         4\n",
       " 59         4\n",
       " 54         4\n",
       " 53         4\n",
       " 95         3\n",
       " 100        3\n",
       " 79         3\n",
       " 76         3\n",
       " 84         3\n",
       " 50         3\n",
       " 72         3\n",
       " 78         2\n",
       " 73         2\n",
       " 62         2\n",
       " 52         2\n",
       " 27         2\n",
       " 86         2\n",
       " 92         2\n",
       " 80         2\n",
       " 98         2\n",
       " 56         2\n",
       " 64         2\n",
       " 55         2\n",
       " 20         2\n",
       " 60         2\n",
       " 83         2\n",
       " 5          2\n",
       " 96         2\n",
       " 51         2\n",
       " 57         2\n",
       " 68         2\n",
       " 67         2\n",
       " 77         1\n",
       " 85         1\n",
       " 87         1\n",
       " 89         1\n",
       " 40         1\n",
       " 93         1\n",
       " 58         1\n",
       " 61         1\n",
       " 63         1\n",
       " 10         1\n",
       " 6          1\n",
       " 75         1\n",
       "Name: count, dtype: int64"
      ]
     },
     "execution_count": 11,
     "metadata": {},
     "output_type": "execute_result"
    }
   ],
   "source": [
    "## Limpieza adultos\n",
    "reservas['adults'].value_counts()"
   ]
  },
  {
   "cell_type": "code",
   "execution_count": 12,
   "metadata": {},
   "outputs": [
    {
     "data": {
      "text/plain": [
       "adults\n",
       "2      45712\n",
       "1      10610\n",
       "3       2225\n",
       "4         34\n",
       "66         6\n",
       "65         5\n",
       "26         5\n",
       "54         4\n",
       "53         4\n",
       "91         4\n",
       "59         4\n",
       "69         4\n",
       "79         3\n",
       "84         3\n",
       "100        3\n",
       "76         3\n",
       "95         3\n",
       "50         3\n",
       "72         3\n",
       "78         2\n",
       "73         2\n",
       "62         2\n",
       "52         2\n",
       "27         2\n",
       "86         2\n",
       "92         2\n",
       "80         2\n",
       "98         2\n",
       "56         2\n",
       "64         2\n",
       "55         2\n",
       "20         2\n",
       "60         2\n",
       "83         2\n",
       "5          2\n",
       "96         2\n",
       "51         2\n",
       "57         2\n",
       "68         2\n",
       "67         2\n",
       "77         1\n",
       "85         1\n",
       "87         1\n",
       "89         1\n",
       "40         1\n",
       "93         1\n",
       "58         1\n",
       "61         1\n",
       "63         1\n",
       "10         1\n",
       "6          1\n",
       "75         1\n",
       "Name: count, dtype: int64"
      ]
     },
     "execution_count": 12,
     "metadata": {},
     "output_type": "execute_result"
    }
   ],
   "source": [
    "reservas = reservas[~reservas['adults'].isin([0,-1])]\n",
    "reservas['adults'].value_counts()"
   ]
  },
  {
   "cell_type": "code",
   "execution_count": 13,
   "metadata": {},
   "outputs": [
    {
     "data": {
      "text/plain": [
       "babies\n",
       " 0      57892\n",
       " 1        597\n",
       "-1         90\n",
       " 2          9\n",
       " 51         6\n",
       " 57         5\n",
       " 77         5\n",
       " 73         5\n",
       " 81         4\n",
       " 94         4\n",
       " 56         4\n",
       " 97         4\n",
       " 65         4\n",
       " 92         3\n",
       " 59         3\n",
       " 67         3\n",
       " 61         3\n",
       " 70         3\n",
       " 66         3\n",
       " 93         3\n",
       " 100        2\n",
       " 55         2\n",
       " 78         2\n",
       " 63         2\n",
       " 99         2\n",
       " 75         2\n",
       " 53         2\n",
       " 98         2\n",
       " 69         2\n",
       " 96         2\n",
       " 71         2\n",
       " 72         2\n",
       " 58         2\n",
       " 52         2\n",
       " 82         2\n",
       " 10         1\n",
       " 83         1\n",
       " 50         1\n",
       " 91         1\n",
       " 62         1\n",
       " 60         1\n",
       " 84         1\n",
       " 89         1\n",
       " 54         1\n",
       " 95         1\n",
       " 74         1\n",
       " 88         1\n",
       "Name: count, dtype: int64"
      ]
     },
     "execution_count": 13,
     "metadata": {},
     "output_type": "execute_result"
    }
   ],
   "source": [
    "## Limpieza babies\n",
    "reservas['babies'].value_counts()"
   ]
  },
  {
   "cell_type": "code",
   "execution_count": null,
   "metadata": {},
   "outputs": [],
   "source": [
    "reservas = reservas[~reservas['babies'].isin([-1])]\n",
    "reservas['babies'].value_counts()"
   ]
  },
  {
   "cell_type": "code",
   "execution_count": 15,
   "metadata": {},
   "outputs": [
    {
     "data": {
      "text/html": [
       "<div>\n",
       "<style scoped>\n",
       "    .dataframe tbody tr th:only-of-type {\n",
       "        vertical-align: middle;\n",
       "    }\n",
       "\n",
       "    .dataframe tbody tr th {\n",
       "        vertical-align: top;\n",
       "    }\n",
       "\n",
       "    .dataframe thead th {\n",
       "        text-align: right;\n",
       "    }\n",
       "</style>\n",
       "<table border=\"1\" class=\"dataframe\">\n",
       "  <thead>\n",
       "    <tr style=\"text-align: right;\">\n",
       "      <th></th>\n",
       "      <th>lead_time</th>\n",
       "      <th>arrival_date_year</th>\n",
       "      <th>mes_llegada</th>\n",
       "      <th>arrival_date_week_number</th>\n",
       "      <th>arrival_date_day_of_month</th>\n",
       "      <th>stays_in_weekend_nights</th>\n",
       "      <th>stays_in_week_nights</th>\n",
       "      <th>adults</th>\n",
       "      <th>children</th>\n",
       "      <th>babies</th>\n",
       "      <th>booking_changes</th>\n",
       "      <th>days_in_waiting_list</th>\n",
       "      <th>required_car_parking_spaces</th>\n",
       "      <th>total_of_special_requests</th>\n",
       "    </tr>\n",
       "  </thead>\n",
       "  <tbody>\n",
       "    <tr>\n",
       "      <th>count</th>\n",
       "      <td>58602.00</td>\n",
       "      <td>58018.00</td>\n",
       "      <td>58602</td>\n",
       "      <td>58602.00</td>\n",
       "      <td>58602.00</td>\n",
       "      <td>58602.00</td>\n",
       "      <td>58602.00</td>\n",
       "      <td>58602.00</td>\n",
       "      <td>58598.00</td>\n",
       "      <td>58602.00</td>\n",
       "      <td>58602.00</td>\n",
       "      <td>58601.00</td>\n",
       "      <td>58015.00</td>\n",
       "      <td>58601.00</td>\n",
       "    </tr>\n",
       "    <tr>\n",
       "      <th>unique</th>\n",
       "      <td>NaN</td>\n",
       "      <td>NaN</td>\n",
       "      <td>12</td>\n",
       "      <td>NaN</td>\n",
       "      <td>NaN</td>\n",
       "      <td>NaN</td>\n",
       "      <td>NaN</td>\n",
       "      <td>NaN</td>\n",
       "      <td>NaN</td>\n",
       "      <td>NaN</td>\n",
       "      <td>NaN</td>\n",
       "      <td>NaN</td>\n",
       "      <td>NaN</td>\n",
       "      <td>NaN</td>\n",
       "    </tr>\n",
       "    <tr>\n",
       "      <th>top</th>\n",
       "      <td>NaN</td>\n",
       "      <td>NaN</td>\n",
       "      <td>8</td>\n",
       "      <td>NaN</td>\n",
       "      <td>NaN</td>\n",
       "      <td>NaN</td>\n",
       "      <td>NaN</td>\n",
       "      <td>NaN</td>\n",
       "      <td>NaN</td>\n",
       "      <td>NaN</td>\n",
       "      <td>NaN</td>\n",
       "      <td>NaN</td>\n",
       "      <td>NaN</td>\n",
       "      <td>NaN</td>\n",
       "    </tr>\n",
       "    <tr>\n",
       "      <th>freq</th>\n",
       "      <td>NaN</td>\n",
       "      <td>NaN</td>\n",
       "      <td>7676</td>\n",
       "      <td>NaN</td>\n",
       "      <td>NaN</td>\n",
       "      <td>NaN</td>\n",
       "      <td>NaN</td>\n",
       "      <td>NaN</td>\n",
       "      <td>NaN</td>\n",
       "      <td>NaN</td>\n",
       "      <td>NaN</td>\n",
       "      <td>NaN</td>\n",
       "      <td>NaN</td>\n",
       "      <td>NaN</td>\n",
       "    </tr>\n",
       "    <tr>\n",
       "      <th>mean</th>\n",
       "      <td>100.05</td>\n",
       "      <td>2015.97</td>\n",
       "      <td>NaN</td>\n",
       "      <td>27.84</td>\n",
       "      <td>15.77</td>\n",
       "      <td>1.06</td>\n",
       "      <td>2.85</td>\n",
       "      <td>1.98</td>\n",
       "      <td>0.11</td>\n",
       "      <td>0.14</td>\n",
       "      <td>0.24</td>\n",
       "      <td>3.52</td>\n",
       "      <td>0.10</td>\n",
       "      <td>0.51</td>\n",
       "    </tr>\n",
       "    <tr>\n",
       "      <th>std</th>\n",
       "      <td>101.17</td>\n",
       "      <td>0.69</td>\n",
       "      <td>NaN</td>\n",
       "      <td>13.34</td>\n",
       "      <td>8.78</td>\n",
       "      <td>1.09</td>\n",
       "      <td>2.24</td>\n",
       "      <td>2.95</td>\n",
       "      <td>0.41</td>\n",
       "      <td>3.12</td>\n",
       "      <td>0.69</td>\n",
       "      <td>21.84</td>\n",
       "      <td>0.30</td>\n",
       "      <td>0.77</td>\n",
       "    </tr>\n",
       "    <tr>\n",
       "      <th>min</th>\n",
       "      <td>0.00</td>\n",
       "      <td>2015.00</td>\n",
       "      <td>NaN</td>\n",
       "      <td>1.00</td>\n",
       "      <td>1.00</td>\n",
       "      <td>0.00</td>\n",
       "      <td>0.00</td>\n",
       "      <td>1.00</td>\n",
       "      <td>0.00</td>\n",
       "      <td>0.00</td>\n",
       "      <td>0.00</td>\n",
       "      <td>0.00</td>\n",
       "      <td>0.00</td>\n",
       "      <td>0.00</td>\n",
       "    </tr>\n",
       "    <tr>\n",
       "      <th>25%</th>\n",
       "      <td>17.00</td>\n",
       "      <td>2016.00</td>\n",
       "      <td>NaN</td>\n",
       "      <td>17.00</td>\n",
       "      <td>8.00</td>\n",
       "      <td>0.00</td>\n",
       "      <td>1.00</td>\n",
       "      <td>2.00</td>\n",
       "      <td>0.00</td>\n",
       "      <td>0.00</td>\n",
       "      <td>0.00</td>\n",
       "      <td>0.00</td>\n",
       "      <td>0.00</td>\n",
       "      <td>0.00</td>\n",
       "    </tr>\n",
       "    <tr>\n",
       "      <th>50%</th>\n",
       "      <td>69.00</td>\n",
       "      <td>2016.00</td>\n",
       "      <td>NaN</td>\n",
       "      <td>29.00</td>\n",
       "      <td>16.00</td>\n",
       "      <td>1.00</td>\n",
       "      <td>2.00</td>\n",
       "      <td>2.00</td>\n",
       "      <td>0.00</td>\n",
       "      <td>0.00</td>\n",
       "      <td>0.00</td>\n",
       "      <td>0.00</td>\n",
       "      <td>0.00</td>\n",
       "      <td>0.00</td>\n",
       "    </tr>\n",
       "    <tr>\n",
       "      <th>75%</th>\n",
       "      <td>157.00</td>\n",
       "      <td>2016.00</td>\n",
       "      <td>NaN</td>\n",
       "      <td>38.00</td>\n",
       "      <td>23.00</td>\n",
       "      <td>2.00</td>\n",
       "      <td>4.00</td>\n",
       "      <td>2.00</td>\n",
       "      <td>0.00</td>\n",
       "      <td>0.00</td>\n",
       "      <td>0.00</td>\n",
       "      <td>0.00</td>\n",
       "      <td>0.00</td>\n",
       "      <td>1.00</td>\n",
       "    </tr>\n",
       "    <tr>\n",
       "      <th>max</th>\n",
       "      <td>737.00</td>\n",
       "      <td>2017.00</td>\n",
       "      <td>NaN</td>\n",
       "      <td>53.00</td>\n",
       "      <td>31.00</td>\n",
       "      <td>19.00</td>\n",
       "      <td>50.00</td>\n",
       "      <td>100.00</td>\n",
       "      <td>10.00</td>\n",
       "      <td>100.00</td>\n",
       "      <td>17.00</td>\n",
       "      <td>391.00</td>\n",
       "      <td>8.00</td>\n",
       "      <td>5.00</td>\n",
       "    </tr>\n",
       "  </tbody>\n",
       "</table>\n",
       "</div>"
      ],
      "text/plain": [
       "        lead_time  arrival_date_year mes_llegada  arrival_date_week_number  \\\n",
       "count    58602.00           58018.00       58602                  58602.00   \n",
       "unique        NaN                NaN          12                       NaN   \n",
       "top           NaN                NaN           8                       NaN   \n",
       "freq          NaN                NaN        7676                       NaN   \n",
       "mean       100.05            2015.97         NaN                     27.84   \n",
       "std        101.17               0.69         NaN                     13.34   \n",
       "min          0.00            2015.00         NaN                      1.00   \n",
       "25%         17.00            2016.00         NaN                     17.00   \n",
       "50%         69.00            2016.00         NaN                     29.00   \n",
       "75%        157.00            2016.00         NaN                     38.00   \n",
       "max        737.00            2017.00         NaN                     53.00   \n",
       "\n",
       "        arrival_date_day_of_month  stays_in_weekend_nights  \\\n",
       "count                    58602.00                 58602.00   \n",
       "unique                        NaN                      NaN   \n",
       "top                           NaN                      NaN   \n",
       "freq                          NaN                      NaN   \n",
       "mean                        15.77                     1.06   \n",
       "std                          8.78                     1.09   \n",
       "min                          1.00                     0.00   \n",
       "25%                          8.00                     0.00   \n",
       "50%                         16.00                     1.00   \n",
       "75%                         23.00                     2.00   \n",
       "max                         31.00                    19.00   \n",
       "\n",
       "        stays_in_week_nights   adults  children   babies  booking_changes  \\\n",
       "count               58602.00 58602.00  58598.00 58602.00         58602.00   \n",
       "unique                   NaN      NaN       NaN      NaN              NaN   \n",
       "top                      NaN      NaN       NaN      NaN              NaN   \n",
       "freq                     NaN      NaN       NaN      NaN              NaN   \n",
       "mean                    2.85     1.98      0.11     0.14             0.24   \n",
       "std                     2.24     2.95      0.41     3.12             0.69   \n",
       "min                     0.00     1.00      0.00     0.00             0.00   \n",
       "25%                     1.00     2.00      0.00     0.00             0.00   \n",
       "50%                     2.00     2.00      0.00     0.00             0.00   \n",
       "75%                     4.00     2.00      0.00     0.00             0.00   \n",
       "max                    50.00   100.00     10.00   100.00            17.00   \n",
       "\n",
       "        days_in_waiting_list  required_car_parking_spaces  \\\n",
       "count               58601.00                     58015.00   \n",
       "unique                   NaN                          NaN   \n",
       "top                      NaN                          NaN   \n",
       "freq                     NaN                          NaN   \n",
       "mean                    3.52                         0.10   \n",
       "std                    21.84                         0.30   \n",
       "min                     0.00                         0.00   \n",
       "25%                     0.00                         0.00   \n",
       "50%                     0.00                         0.00   \n",
       "75%                     0.00                         0.00   \n",
       "max                   391.00                         8.00   \n",
       "\n",
       "        total_of_special_requests  \n",
       "count                    58601.00  \n",
       "unique                        NaN  \n",
       "top                           NaN  \n",
       "freq                          NaN  \n",
       "mean                         0.51  \n",
       "std                          0.77  \n",
       "min                          0.00  \n",
       "25%                          0.00  \n",
       "50%                          0.00  \n",
       "75%                          1.00  \n",
       "max                          5.00  "
      ]
     },
     "execution_count": 15,
     "metadata": {},
     "output_type": "execute_result"
    }
   ],
   "source": [
    "\n",
    "reservas[['lead_time','arrival_date_year','mes_llegada','arrival_date_week_number','arrival_date_day_of_month','stays_in_weekend_nights','stays_in_week_nights','adults','children','babies','booking_changes','days_in_waiting_list','required_car_parking_spaces','total_of_special_requests']].describe(include='all')"
   ]
  },
  {
   "cell_type": "code",
   "execution_count": null,
   "metadata": {},
   "outputs": [],
   "source": [
    "table = pd.pivot_table(reservas, values='D', index=['is_canceled','Fecha'],\n",
    "                       columns=['C'], aggfunc=\"count\")"
   ]
  },
  {
   "cell_type": "code",
   "execution_count": 31,
   "metadata": {},
   "outputs": [
    {
     "data": {
      "text/plain": [
       "is_canceled  Fecha     \n",
       "0            2015-07-01    39\n",
       "             2015-07-02    35\n",
       "             2015-07-03    36\n",
       "             2015-07-04    36\n",
       "             2015-07-05    35\n",
       "             2015-07-06    40\n",
       "             2015-07-07    29\n",
       "             2015-07-08    23\n",
       "             2015-07-09    28\n",
       "             2015-07-10    40\n",
       "             2015-07-11    55\n",
       "             2015-07-12    36\n",
       "             2015-07-13    38\n",
       "             2015-07-14    24\n",
       "             2015-07-15    31\n",
       "             2015-07-16    40\n",
       "             2015-07-17    50\n",
       "             2015-07-18    74\n",
       "             2015-07-19    36\n",
       "             2015-07-20    52\n",
       "Name: hotel, dtype: int64"
      ]
     },
     "execution_count": 31,
     "metadata": {},
     "output_type": "execute_result"
    }
   ],
   "source": [
    "df2 = reservas.groupby(['is_canceled','Fecha'])['hotel'].agg('count') #.reset_index()\n",
    "df2.head(20)"
   ]
  },
  {
   "cell_type": "code",
   "execution_count": 18,
   "metadata": {},
   "outputs": [
    {
     "data": {
      "text/html": [
       "<div>\n",
       "<style scoped>\n",
       "    .dataframe tbody tr th:only-of-type {\n",
       "        vertical-align: middle;\n",
       "    }\n",
       "\n",
       "    .dataframe tbody tr th {\n",
       "        vertical-align: top;\n",
       "    }\n",
       "\n",
       "    .dataframe thead tr th {\n",
       "        text-align: left;\n",
       "    }\n",
       "\n",
       "    .dataframe thead tr:last-of-type th {\n",
       "        text-align: right;\n",
       "    }\n",
       "</style>\n",
       "<table border=\"1\" class=\"dataframe\">\n",
       "  <thead>\n",
       "    <tr>\n",
       "      <th></th>\n",
       "      <th></th>\n",
       "      <th>is_canceled</th>\n",
       "    </tr>\n",
       "    <tr>\n",
       "      <th></th>\n",
       "      <th></th>\n",
       "      <th>count</th>\n",
       "    </tr>\n",
       "    <tr>\n",
       "      <th>Fecha</th>\n",
       "      <th>is_canceled</th>\n",
       "      <th></th>\n",
       "    </tr>\n",
       "  </thead>\n",
       "  <tbody>\n",
       "    <tr>\n",
       "      <th rowspan=\"2\" valign=\"top\">2015-07-01</th>\n",
       "      <th>0</th>\n",
       "      <td>39</td>\n",
       "    </tr>\n",
       "    <tr>\n",
       "      <th>1</th>\n",
       "      <td>8</td>\n",
       "    </tr>\n",
       "    <tr>\n",
       "      <th rowspan=\"2\" valign=\"top\">2015-07-02</th>\n",
       "      <th>0</th>\n",
       "      <td>35</td>\n",
       "    </tr>\n",
       "    <tr>\n",
       "      <th>1</th>\n",
       "      <td>14</td>\n",
       "    </tr>\n",
       "    <tr>\n",
       "      <th>2015-07-03</th>\n",
       "      <th>0</th>\n",
       "      <td>36</td>\n",
       "    </tr>\n",
       "  </tbody>\n",
       "</table>\n",
       "</div>"
      ],
      "text/plain": [
       "                       is_canceled\n",
       "                             count\n",
       "Fecha      is_canceled            \n",
       "2015-07-01 0                    39\n",
       "           1                     8\n",
       "2015-07-02 0                    35\n",
       "           1                    14\n",
       "2015-07-03 0                    36"
      ]
     },
     "execution_count": 18,
     "metadata": {},
     "output_type": "execute_result"
    }
   ],
   "source": [
    "reservas['Fecha'] = pd.to_datetime({'year': reservas['arrival_date_year'], 'month': reservas['mes_llegada'], 'day': reservas['arrival_date_day_of_month']})\n",
    "\n",
    "reservasFecha = reservas.groupby(['Fecha','is_canceled']).agg({ 'is_canceled': ['count']})\n",
    "reservasFecha.head(5)"
   ]
  },
  {
   "cell_type": "code",
   "execution_count": null,
   "metadata": {},
   "outputs": [],
   "source": [
    "reservas['lead_time'].hist()\n",
    "plt.title('Histograma de Columna1')\n",
    "plt.xlabel('Valores')\n",
    "plt.ylabel('Frecuencia')\n",
    "plt.show()"
   ]
  },
  {
   "cell_type": "code",
   "execution_count": 80,
   "metadata": {},
   "outputs": [
    {
     "data": {
      "image/png": "[encoded data removed]",
      "text/plain": [
       "<Figure size 640x480 with 1 Axes>"
      ]
     },
     "metadata": {},
     "output_type": "display_data"
    }
   ],
   "source": [
    "## Limpieza adultos\n",
    "plt.hist(reservas['adults'], bins=50, edgecolor='black') \n",
    "plt.xlabel(\"Cantidad adultos\")\n",
    "plt.ylabel(\"Frecuencia\")\n",
    "plt.title(\"Histograma de cant Adultos\")\n",
    "plt.show()"
   ]
  },
  {
   "cell_type": "markdown",
   "metadata": {},
   "source": [
    "<p style=\"color: red;\">Modify the code above to show percentiles 95 and 99</p>"
   ]
  },
  {
   "cell_type": "code",
   "execution_count": null,
   "metadata": {},
   "outputs": [],
   "source": [
    "# Computing skewness and kurtosis\n",
    "print(\"Skewness:\", fifa_df['Value'].skew())\n",
    "print(\"Kurtosis:\", fifa_df['Value'].kurtosis())"
   ]
  },
  {
   "cell_type": "code",
   "execution_count": null,
   "metadata": {
    "id": "orqx5NO5erx1"
   },
   "outputs": [],
   "source": [
    "# Plotting the histogram for the column\n",
    "fifa_df['Value'].hist()\n",
    "plt.show()"
   ]
  },
  {
   "cell_type": "code",
   "execution_count": null,
   "metadata": {
    "id": "Ypgk92Pjerx2"
   },
   "outputs": [],
   "source": [
    "# Defining the number of bins and for better visualization\n",
    "plt.figure()\n",
    "fifa_df['Value'].hist(bins=50)\n",
    "plt.show()"
   ]
  },
  {
   "cell_type": "code",
   "execution_count": null,
   "metadata": {
    "id": "W6hTvnT2erx2"
   },
   "outputs": [],
   "source": [
    "# Plotting distribution but using a boxplot\n",
    "plt.figure(figsize=(18, 3))\n",
    "plt.boxplot(fifa_df['Value'], showmeans=True, vert=False)\n",
    "plt.show()"
   ]
  },
  {
   "cell_type": "code",
   "execution_count": null,
   "metadata": {
    "id": "hHle4Axyerx2"
   },
   "outputs": [],
   "source": [
    "# Which are the most valuable players?\n",
    "outlier_threshold = fifa_df['Value'].mean() + fifa_df['Value'].std() * 15\n",
    "fifa_df[fifa_df['Value'] > outlier_threshold]"
   ]
  },
  {
   "cell_type": "code",
   "execution_count": null,
   "metadata": {
    "id": "dXP9615Xerx4"
   },
   "outputs": [],
   "source": [
    "# Using the method based on quartiles to select outliers\n",
    "iqr = (fifa_df['Value'].quantile(.75) - fifa_df['Value'].quantile(.25))\n",
    "outlier_threshold = fifa_df['Value'].quantile(.75) + iqr * 45\n",
    "fifa_df[fifa_df['Value'] > outlier_threshold]"
   ]
  },
  {
   "cell_type": "markdown",
   "metadata": {
    "id": "cH7G5X4Aerx4",
    "tags": []
   },
   "source": [
    "### Explore the *Preferred Positions* column"
   ]
  },
  {
   "cell_type": "code",
   "execution_count": null,
   "metadata": {
    "id": "_SgUnsnKerx4"
   },
   "outputs": [],
   "source": [
    "fifa_df['Preferred Positions'].unique()"
   ]
  },
  {
   "cell_type": "code",
   "execution_count": null,
   "metadata": {
    "id": "fMra_Vkcerx4"
   },
   "outputs": [],
   "source": [
    "# How many preferred positions the players have?\n",
    "\n",
    "def count_pref_positions(x):\n",
    "    positions = x.strip().split(' ')    # Split the text by space\n",
    "    return len(positions)               # Count the number of positions and return the value\n",
    "\n",
    "fifa_df['Preferred Positions'].apply(count_pref_positions).value_counts(dropna=False, normalize=True)"
   ]
  },
  {
   "cell_type": "code",
   "execution_count": null,
   "metadata": {
    "id": "JRsF-JY2erx5"
   },
   "outputs": [],
   "source": [
    "# Selecting the preferred position with the highest score\n",
    "\n",
    "def get_pref_position(row):\n",
    "    pref_positions = row['Preferred Positions'].strip().split(' ')    # Split the text by space\n",
    "    if pref_positions[0] == \"GK\":                                     # Handle the special case for GKs\n",
    "        return \"GK\"\n",
    "    scores = np.array([row[p] for p in pref_positions])               # Get the the scores for each preferred position\n",
    "    i_max = np.argmax(scores)                                         # Get the index for the highest score\n",
    "    return pref_positions[i_max]                                      # Locate the position using its index and return it\n",
    "\n",
    "fifa_df['Preferred Position'] = fifa_df.apply(get_pref_position, axis=1)"
   ]
  },
  {
   "cell_type": "code",
   "execution_count": null,
   "metadata": {
    "id": "oqsdASvderx5"
   },
   "outputs": [],
   "source": [
    "# Calculating the absolute frecuency of the preferred position\n",
    "pref_positions_abs_frec = fifa_df['Preferred Position'].value_counts(dropna=False)\n",
    "pref_positions_abs_frec"
   ]
  },
  {
   "cell_type": "code",
   "execution_count": null,
   "metadata": {
    "id": "kezCn1Uterx5"
   },
   "outputs": [],
   "source": [
    "# Plotting preferred position frecuency\n",
    "# WARNING: line chart assumes continuity. It is a better choice when dealing with continuous variables (e.g. time series)\n",
    "pref_positions_abs_frec.plot()\n",
    "plt.show()"
   ]
  },
  {
   "cell_type": "markdown",
   "metadata": {},
   "source": [
    "<p style=\"color: red;\">Use a bar chart to better visualize the preferred position frecuency</p>"
   ]
  },
  {
   "cell_type": "code",
   "execution_count": null,
   "metadata": {},
   "outputs": [],
   "source": []
  },
  {
   "cell_type": "markdown",
   "metadata": {
    "id": "HC1WZV2gerx5",
    "tags": []
   },
   "source": [
    "### Explore the relationship between *Age* and *Value*"
   ]
  },
  {
   "cell_type": "code",
   "execution_count": null,
   "metadata": {
    "id": "c-q_qJP2erx5"
   },
   "outputs": [],
   "source": [
    "# Plotting a scatter plot to visualize two quantitative variables\n",
    "plt.figure(figsize=(13, 7))\n",
    "plt.scatter(fifa_df['Age'], fifa_df['Value'], alpha=0.5)\n",
    "plt.title('Age vs. Value')\n",
    "plt.xlabel('Age')\n",
    "plt.ylabel('Value')\n",
    "plt.show()"
   ]
  },
  {
   "cell_type": "code",
   "execution_count": null,
   "metadata": {
    "id": "IiQ43JD7erx5"
   },
   "outputs": [],
   "source": [
    "# What is the (linear) correlation coefficient?\n",
    "fifa_df[['Age', 'Value']].corr()"
   ]
  },
  {
   "cell_type": "code",
   "execution_count": null,
   "metadata": {
    "id": "KayMCOseerx5"
   },
   "outputs": [],
   "source": [
    "# What is the (monotonic) correlation coefficient?\n",
    "fifa_df[['Age', 'Value']].corr('spearman')"
   ]
  },
  {
   "cell_type": "markdown",
   "metadata": {
    "id": "CiLo_etGerx6"
   },
   "source": [
    "### Explore the relationship between *Overall* and *Value*"
   ]
  },
  {
   "cell_type": "code",
   "execution_count": null,
   "metadata": {
    "id": "QkpcLQx3erx6"
   },
   "outputs": [],
   "source": [
    "plt.figure(figsize=(13, 7))\n",
    "plt.scatter(fifa_df['Overall'], fifa_df['Value'], alpha=0.5, color='orange')\n",
    "plt.title('Overall vs. Value')\n",
    "plt.xlabel('Overall')\n",
    "plt.ylabel('Value')\n",
    "plt.show()"
   ]
  },
  {
   "cell_type": "code",
   "execution_count": null,
   "metadata": {
    "id": "VU_TwV0berx6"
   },
   "outputs": [],
   "source": [
    "# What is the (linear) correlation coefficient?\n",
    "fifa_df[['Overall', 'Value']].corr()"
   ]
  },
  {
   "cell_type": "code",
   "execution_count": null,
   "metadata": {
    "id": "tv8ahrL1erx6"
   },
   "outputs": [],
   "source": [
    "# What is the (monotonic) correlation coefficient?\n",
    "fifa_df[['Overall', 'Value']].corr('spearman')"
   ]
  },
  {
   "cell_type": "markdown",
   "metadata": {
    "id": "FJMM9SSferx6"
   },
   "source": [
    "<p style=\"color: red;\">Why both methods give different correlation coefficients for the same pair of variables?</p>"
   ]
  },
  {
   "cell_type": "markdown",
   "metadata": {
    "id": "9KEcVr3Verx6"
   },
   "source": [
    "### Compare by *Club*"
   ]
  },
  {
   "cell_type": "code",
   "execution_count": null,
   "metadata": {},
   "outputs": [],
   "source": [
    "# Plotting Wage by club\n",
    "plt.figure(figsize=(13, 10))\n",
    "sns.boxplot(\n",
    "    data=fifa_df.loc[fifa_df['Club'].isin(['Real Madrid CF', 'FC Barcelona'])],\n",
    "    x='Club',\n",
    "    y='Wage',\n",
    "    showmeans=True\n",
    ")\n",
    "plt.show()"
   ]
  },
  {
   "cell_type": "code",
   "execution_count": null,
   "metadata": {
    "id": "Y0uzlkILerx6"
   },
   "outputs": [],
   "source": [
    "# Plotting Wage by club\n",
    "plt.figure(figsize=(13, 10))\n",
    "sns.boxplot(\n",
    "    data=fifa_df.loc[fifa_df['Club'].isin(['Independiente Santa Fe', 'CD Los Millionarios Bogota'])],\n",
    "    x='Club',\n",
    "    y='Wage',\n",
    "    showmeans=True\n",
    ")\n",
    "plt.show()"
   ]
  },
  {
   "cell_type": "markdown",
   "metadata": {},
   "source": [
    "<p style=\"color: red;\">What are the main origins (Nationality) of the players in the top 3 teams with the most expensive squads (Value)? Hint: You need to group the data first.</p>"
   ]
  },
  {
   "cell_type": "code",
   "execution_count": null,
   "metadata": {},
   "outputs": [],
   "source": []
  },
  {
   "cell_type": "markdown",
   "metadata": {
    "id": "Btqs1K3Ferx6"
   },
   "source": [
    "### Profiling the data"
   ]
  },
  {
   "cell_type": "code",
   "execution_count": null,
   "metadata": {
    "id": "gFjsKzVierx6"
   },
   "outputs": [],
   "source": [
    "profile = ProfileReport(fifa_df)"
   ]
  },
  {
   "cell_type": "code",
   "execution_count": null,
   "metadata": {
    "id": "XfV0ii6Perx6"
   },
   "outputs": [],
   "source": [
    "# profile.to_notebook_iframe()"
   ]
  },
  {
   "cell_type": "code",
   "execution_count": null,
   "metadata": {
    "id": "3I7tqdJterx6"
   },
   "outputs": [],
   "source": [
    "# profile.to_file('report.html')"
   ]
  },
  {
   "cell_type": "markdown",
   "metadata": {
    "id": "i07Dpbg1tA4W"
   },
   "source": [
    "### Exporting clean date"
   ]
  },
  {
   "cell_type": "code",
   "execution_count": null,
   "metadata": {},
   "outputs": [],
   "source": [
    "fifa_df.to_csv('./data/fifa_clean.csv', index=False)"
   ]
  },
  {
   "cell_type": "code",
   "execution_count": null,
   "metadata": {},
   "outputs": [],
   "source": []
  }
 ],
 "metadata": {
  "colab": {
   "include_colab_link": true,
   "name": "eda-tutorial.ipynb",
   "provenance": []
  },
  "kernelspec": {
   "display_name": "Python 3 (ipykernel)",
   "language": "python",
   "name": "python3"
  },
  "language_info": {
   "codemirror_mode": {
    "name": "ipython",
    "version": 3
   },
   "file_extension": ".py",
   "mimetype": "text/x-python",
   "name": "python",
   "nbconvert_exporter": "python",
   "pygments_lexer": "ipython3",
   "version": "3.9.6"
  }
 },
 "nbformat": 4,
 "nbformat_minor": 4
}
